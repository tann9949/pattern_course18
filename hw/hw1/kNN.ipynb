{
 "cells": [
  {
   "cell_type": "markdown",
   "metadata": {},
   "source": [
    "# Clustering"
   ]
  },
  {
   "cell_type": "code",
   "execution_count": 1,
   "metadata": {},
   "outputs": [],
   "source": [
    "import numpy as np\n",
    "import matplotlib.pyplot as plt\n",
    "import random\n",
    "\n",
    "def distance(x1,x2):\n",
    "    return np.linalg.norm(np.array(x1)-np.array(x2))\n",
    "\n",
    "def checkCentroid(data, cen):\n",
    "#     print(data)\n",
    "#     print(cen)\n",
    "    d = []\n",
    "    for i in range(len(cen)):\n",
    "        d.append(distance(data, cen[i]))\n",
    "#         print(d)\n",
    "    return cen[d.index(min(d))]\n",
    "\n",
    "def plotxy(data, color):\n",
    "    if(not isinstance(data, np.ndarray)):\n",
    "        data = np.array(data)\n",
    "    x = data[:,0]\n",
    "    y = data[:,1]\n",
    "    plt.scatter(x,y,c=color)\n",
    "    \n",
    "def plotCross(data, marker):\n",
    "    if(not isinstance(data, np.ndarray)):\n",
    "        data = np.array(data)\n",
    "    x = data[:,0]\n",
    "    y = data[:,1]\n",
    "    plt.scatter(x,y, marker=marker)\n",
    "    \n",
    "def getCentroidIndex(centroid, data):\n",
    "    indexes = []\n",
    "    for i in enumerate(data):\n",
    "        if i[1] == centroid:\n",
    "            indexes.append(i[0])\n",
    "    return indexes  \n",
    "    \n",
    "def plotData(data, centroid):\n",
    "    plotxy(data, np.random.rand(3,))\n",
    "    plotCross(centroid, 'x')\n",
    "\n",
    "def assignGroup(centroid, data):\n",
    "    print('Seperated Group')\n",
    "    groupNum = len(centroid)\n",
    "    dataNum = len(data)\n",
    "    group = []\n",
    "    result = []\n",
    "    indexGroup = []\n",
    "    color = np.random.rand(3,)\n",
    "    #get list of centroid assign to each data elements\n",
    "    for i in range(dataNum):\n",
    "        result.append((checkCentroid(data[i], centroid)))\n",
    "    #get each index for each group\n",
    "    for i in range(groupNum):\n",
    "        indexGroup.append(getCentroidIndex(centroid[i], result))\n",
    "    if(not isinstance(data, np.ndarray)):\n",
    "        data = np.array(data)\n",
    "    #create list of each group\n",
    "    for i in range(groupNum):\n",
    "        group.append(data[indexGroup[i]])\n",
    "        color = np.random.rand(3,)\n",
    "        if(i==1): color = 'blue'\n",
    "        elif(i==2): color = 'red'\n",
    "        elif(i==0): color = 'green'\n",
    "        elif(i==3): color = 'orange'\n",
    "        plotxy(group[i], color)\n",
    "    return group\n",
    "\n",
    "def plotGroupCentroid(group, centroid):\n",
    "    i = 0\n",
    "    color = ''\n",
    "    for grp in group:\n",
    "        if(i==1): color = 'blue'\n",
    "        elif(i==2): color = 'red'\n",
    "        elif(i==0): color = 'green'\n",
    "        elif(i==3): color = 'orange'\n",
    "        plotxy(grp, color)\n",
    "        i+=1\n",
    "    plotCross(centroid, 'x')\n",
    "    \n",
    "def plotCenData(data):\n",
    "    plt.scatter(getMidPoint(data)[0], getMidPoint(data)[1], marker = '*', s = 80)\n",
    "\n",
    "    \n",
    "def getMidPoint(data):\n",
    "    if(not isinstance(data, np.ndarray)):\n",
    "        data = np.array(data)\n",
    "    x = data[:,0]\n",
    "    y = data[:,1]\n",
    "    n = data.shape[0]\n",
    "    return [sum(x)/n,sum(y)/n]\n",
    "        \n",
    "def updateCentroid(group, centroid, data):\n",
    "    print('updating centroid...')\n",
    "    for i in range(len(group)):\n",
    "        centroid[i] = getMidPoint(group[i])\n",
    "    plotGroupCentroid(group, centroid)\n",
    "    print(\"centroids are: \")\n",
    "    print(centroid)\n",
    "    return centroid\n",
    "\n",
    "def updateCentroidNoPlot(group, centroid):\n",
    "#     print('updating centroid...')\n",
    "    for i in range(len(group)):\n",
    "        centroid[i] = getMidPoint(group[i])\n",
    "#     print(\"centroids are: \")\n",
    "#     print(centroid)\n",
    "    return centroid\n",
    "\n",
    "def assignGroupNoPlot(centroid, data):\n",
    "    groupNum = len(centroid)\n",
    "    dataNum = len(data)\n",
    "    group = []\n",
    "    result = []\n",
    "    indexGroup = []\n",
    "    #get list of centroid assign to each data elements\n",
    "    for i in range(dataNum):\n",
    "        result.append((checkCentroid(data[i], centroid)))\n",
    "    #get each index for each group\n",
    "    for i in range(groupNum):\n",
    "        indexGroup.append(getCentroidIndex(centroid[i], result))\n",
    "    if(not isinstance(data, np.ndarray)):\n",
    "        data = np.array(data)\n",
    "    #create list of each group\n",
    "    for i in range(groupNum):\n",
    "        group.append(data[indexGroup[i]])\n",
    "    return group\n",
    "    \n",
    "def randomCentroid(data, k):\n",
    "    return random.sample(data,k)\n",
    "\n",
    "def cluster(data, k):\n",
    "    centroid = randomCentroid(data,k)\n",
    "    print(\"centroids are \", centroid)\n",
    "    group = []\n",
    "    while True:\n",
    "        group = assignGroupNoPlot(centroid, data)\n",
    "        centroid = updateCentroidNoPlot(group, centroid)\n",
    "        if (centroid == updateCentroidNoPlot(group, centroid)):\n",
    "            break\n",
    "    print(\"Between Cluster Variance: \", betweenClusterVariance(group, centroid, data))\n",
    "    print(\"All Data Variance: \", allDataVariance(group,data))\n",
    "    print(\"Fraction Of Explaind Variance: \", betweenClusterVariance(group, centroid, data)/allDataVariance(group,data))\n",
    "    plotGroupCentroid(group, centroid)\n",
    "    plt.scatter(getMidPoint(data)[0], getMidPoint(data)[1], marker='*', s=80, c='black')\n",
    "    return betweenClusterVariance(group, centroid, data)/allDataVariance(group,data)\n",
    "\n",
    "def clusterNoPlot(data, k):\n",
    "    centroid = randomCentroid(data,k)\n",
    "    group = []\n",
    "    while True:\n",
    "        group = assignGroupNoPlot(centroid, data)\n",
    "        centroid = updateCentroidNoPlot(group, centroid)\n",
    "        if (centroid == updateCentroidNoPlot(group, centroid)):\n",
    "            break\n",
    "#     plotGroupCentroid(group, centroid)\n",
    "#     plt.scatter(getMidPoint(data)[0], getMidPoint(data)[1], marker='*', s=80, c='black')\n",
    "    print(\"\\tFraction of Explained Varience = \", betweenClusterVariance(group, centroid, data)/allDataVariance(group,data))\n",
    "    return betweenClusterVariance(group, centroid, data)/allDataVariance(group,data)\n",
    "    \n",
    "def betweenClusterVariance(group, centroid, data):\n",
    "    dataCen = getMidPoint(data)\n",
    "    i=0\n",
    "    sum=0\n",
    "    for grp in group:\n",
    "        sum+=(grp.shape[0])*np.square(distance(centroid[i],dataCen))/(len(data)-1)\n",
    "        i+=1\n",
    "    return sum\n",
    "\n",
    "def allDataVariance(group,data):\n",
    "    dataCen = getMidPoint(data)\n",
    "    i=0\n",
    "    sum=0\n",
    "    for grp in group:\n",
    "        sum+=np.square(distance(data[i],dataCen))/(len(data)-1)\n",
    "        i+=1\n",
    "    return sum\n",
    "\n",
    "def elbowMethod(data):\n",
    "    fev = []\n",
    "    k = []\n",
    "#     plt.margins(0.2)\n",
    "    for i in range(len(data)):\n",
    "        if(i==0): continue\n",
    "#         plt.subplot(2,5,i)\n",
    "#         plt.title('k = '+str(i))\n",
    "        print('for k = ', i, ':')\n",
    "        fev.append(clusterNoPlot(data,i))\n",
    "        k.append(i+1)\n",
    "#     plt.subplot(2,5,len(data)+1)\n",
    "    plt.scatter(k,fev)"
   ]
  },
  {
   "cell_type": "code",
   "execution_count": 2,
   "metadata": {},
   "outputs": [
    {
     "name": "stdout",
     "output_type": "stream",
     "text": [
      "data\n"
     ]
    },
    {
     "data": {
      "image/png": "[encoded data removed]",
      "text/plain": [
       "<Figure size 432x288 with 1 Axes>"
      ]
     },
     "metadata": {
      "needs_background": "light"
     },
     "output_type": "display_data"
    }
   ],
   "source": [
    "data = [[1,2],[3,3],[2,2],[8,8],[6,6],[7,7],[-3,-3],[-2,-4],[-7,-7]]\n",
    "print(\"data\")\n",
    "plotxy(data, np.random.rand(3,))"
   ]
  },
  {
   "cell_type": "markdown",
   "metadata": {},
   "source": [
    "## T4) Centroids are [3,3], [-3,-3], and [2,2]"
   ]
  },
  {
   "cell_type": "code",
   "execution_count": 3,
   "metadata": {},
   "outputs": [
    {
     "data": {
      "image/png": "[encoded data removed]",
      "text/plain": [
       "<Figure size 432x288 with 1 Axes>"
      ]
     },
     "metadata": {
      "needs_background": "light"
     },
     "output_type": "display_data"
    }
   ],
   "source": [
    "centroidT4 = [[3,3],[-3,-3],[2,2]]\n",
    "plotData(data, centroidT4)"
   ]
  },
  {
   "cell_type": "code",
   "execution_count": 4,
   "metadata": {},
   "outputs": [
    {
     "name": "stdout",
     "output_type": "stream",
     "text": [
      "Seperated Group\n"
     ]
    },
    {
     "data": {
      "image/png": "[encoded data removed]",
      "text/plain": [
       "<Figure size 432x288 with 1 Axes>"
      ]
     },
     "metadata": {
      "needs_background": "light"
     },
     "output_type": "display_data"
    }
   ],
   "source": [
    "groupT4 = assignGroup(centroidT4, data)"
   ]
  },
  {
   "cell_type": "code",
   "execution_count": 5,
   "metadata": {},
   "outputs": [
    {
     "name": "stdout",
     "output_type": "stream",
     "text": [
      "updating centroid...\n",
      "centroids are: \n",
      "[[6.0, 6.0], [-4.0, -4.666666666666667], [1.5, 2.0]]\n"
     ]
    },
    {
     "data": {
      "image/png": "[encoded data removed]",
      "text/plain": [
       "<Figure size 432x288 with 1 Axes>"
      ]
     },
     "metadata": {
      "needs_background": "light"
     },
     "output_type": "display_data"
    }
   ],
   "source": [
    "centroidT4 = updateCentroid(groupT4, centroidT4, data)"
   ]
  },
  {
   "cell_type": "code",
   "execution_count": 6,
   "metadata": {},
   "outputs": [
    {
     "name": "stdout",
     "output_type": "stream",
     "text": [
      "Seperated Group\n"
     ]
    },
    {
     "data": {
      "image/png": "[encoded data removed]",
      "text/plain": [
       "<Figure size 432x288 with 1 Axes>"
      ]
     },
     "metadata": {
      "needs_background": "light"
     },
     "output_type": "display_data"
    }
   ],
   "source": [
    "groupT4 = assignGroup(centroidT4, data)"
   ]
  },
  {
   "cell_type": "code",
   "execution_count": 7,
   "metadata": {},
   "outputs": [
    {
     "name": "stdout",
     "output_type": "stream",
     "text": [
      "updating centroid...\n",
      "centroids are: \n",
      "[[7.0, 7.0], [-4.0, -4.666666666666667], [2.0, 2.3333333333333335]]\n"
     ]
    },
    {
     "data": {
      "image/png": "[encoded data removed]",
      "text/plain": [
       "<Figure size 432x288 with 1 Axes>"
      ]
     },
     "metadata": {
      "needs_background": "light"
     },
     "output_type": "display_data"
    }
   ],
   "source": [
    "centroidT4 = updateCentroid(groupT4, centroidT4, data)"
   ]
  },
  {
   "cell_type": "code",
   "execution_count": 8,
   "metadata": {},
   "outputs": [
    {
     "name": "stdout",
     "output_type": "stream",
     "text": [
      "Seperated Group\n"
     ]
    },
    {
     "data": {
      "image/png": "[encoded data removed]",
      "text/plain": [
       "<Figure size 432x288 with 1 Axes>"
      ]
     },
     "metadata": {
      "needs_background": "light"
     },
     "output_type": "display_data"
    }
   ],
   "source": [
    "groupT4 = assignGroup(centroidT4, data)"
   ]
  },
  {
   "cell_type": "code",
   "execution_count": 9,
   "metadata": {},
   "outputs": [
    {
     "name": "stdout",
     "output_type": "stream",
     "text": [
      "updating centroid...\n",
      "centroids are: \n",
      "[[7.0, 7.0], [-4.0, -4.666666666666667], [2.0, 2.3333333333333335]]\n"
     ]
    },
    {
     "data": {
      "image/png": "[encoded data removed]",
      "text/plain": [
       "<Figure size 432x288 with 1 Axes>"
      ]
     },
     "metadata": {
      "needs_background": "light"
     },
     "output_type": "display_data"
    }
   ],
   "source": [
    "centroidT4 = updateCentroid(groupT4, centroidT4, data)"
   ]
  },
  {
   "cell_type": "markdown",
   "metadata": {},
   "source": [
    "#### centroid isn't change now. Each group is as following."
   ]
  },
  {
   "cell_type": "markdown",
   "metadata": {},
   "source": [
    "## T5) Centroids are (-3,-3), (2,2), and (-7,-7)"
   ]
  },
  {
   "cell_type": "code",
   "execution_count": 10,
   "metadata": {},
   "outputs": [
    {
     "data": {
      "image/png": "[encoded data removed]",
      "text/plain": [
       "<Figure size 432x288 with 1 Axes>"
      ]
     },
     "metadata": {
      "needs_background": "light"
     },
     "output_type": "display_data"
    }
   ],
   "source": [
    "centroidT5 = [[-3,-3],[2,2],[-7,-7]]\n",
    "plotData(data, centroidT5)"
   ]
  },
  {
   "cell_type": "code",
   "execution_count": 11,
   "metadata": {},
   "outputs": [
    {
     "name": "stdout",
     "output_type": "stream",
     "text": [
      "Seperated Group\n"
     ]
    },
    {
     "data": {
      "image/png": "[encoded data removed]",
      "text/plain": [
       "<Figure size 432x288 with 1 Axes>"
      ]
     },
     "metadata": {
      "needs_background": "light"
     },
     "output_type": "display_data"
    }
   ],
   "source": [
    "groupT5 = assignGroup(centroidT5, data)"
   ]
  },
  {
   "cell_type": "code",
   "execution_count": 12,
   "metadata": {},
   "outputs": [
    {
     "name": "stdout",
     "output_type": "stream",
     "text": [
      "updating centroid...\n",
      "centroids are: \n",
      "[[-2.5, -3.5], [4.5, 4.666666666666667], [-7.0, -7.0]]\n"
     ]
    },
    {
     "data": {
      "image/png": "[encoded data removed]",
      "text/plain": [
       "<Figure size 432x288 with 1 Axes>"
      ]
     },
     "metadata": {
      "needs_background": "light"
     },
     "output_type": "display_data"
    }
   ],
   "source": [
    "centroidT5 = updateCentroid(groupT5, centroidT5, data)"
   ]
  },
  {
   "cell_type": "code",
   "execution_count": 13,
   "metadata": {},
   "outputs": [
    {
     "name": "stdout",
     "output_type": "stream",
     "text": [
      "Seperated Group\n"
     ]
    },
    {
     "data": {
      "image/png": "[encoded data removed]",
      "text/plain": [
       "<Figure size 432x288 with 1 Axes>"
      ]
     },
     "metadata": {
      "needs_background": "light"
     },
     "output_type": "display_data"
    }
   ],
   "source": [
    "groupT5 = assignGroup(centroidT5, data)"
   ]
  },
  {
   "cell_type": "code",
   "execution_count": 14,
   "metadata": {},
   "outputs": [
    {
     "name": "stdout",
     "output_type": "stream",
     "text": [
      "updating centroid...\n",
      "centroids are: \n",
      "[[-2.5, -3.5], [4.5, 4.666666666666667], [-7.0, -7.0]]\n"
     ]
    },
    {
     "data": {
      "image/png": "[encoded data removed]",
      "text/plain": [
       "<Figure size 432x288 with 1 Axes>"
      ]
     },
     "metadata": {
      "needs_background": "light"
     },
     "output_type": "display_data"
    }
   ],
   "source": [
    "centroid = updateCentroid(groupT5, centroidT5, data)"
   ]
  },
  {
   "cell_type": "markdown",
   "metadata": {},
   "source": [
    "#### centroid isn't change now. Each group is as following.\n",
    "#### One may note that this is a bad starting centroid. Thus, The clustering is super bad"
   ]
  },
  {
   "cell_type": "markdown",
   "metadata": {},
   "source": [
    "## T6)\n",
    "#### Intuitively, we can recognize group one as (-7,-7), group two as (-3,-3), (-2,-4), group three (1,2),(2,2), and (3,2) and group four as (6,6) ,(7,7) ,(8,8). However, since we got only 3 centroids. The approximation that seems to be closest is  the first example. Although first example consider (-7,-7), (-3,-3), and (-2,-4) as a group, the second example consider  (1,2),(2,2), (3,2) , (6,6) ,(7,7) , and(8,8) as the same group. In other word, the first example yield acceptable result since (-7,-7) can be treated as outlier, but the second example took two clearly seperable group as one whole group. Therefore, example one consider to be better."
   ]
  },
  {
   "cell_type": "markdown",
   "metadata": {},
   "source": [
    "# OT1)"
   ]
  },
  {
   "cell_type": "code",
   "execution_count": 15,
   "metadata": {},
   "outputs": [
    {
     "name": "stdout",
     "output_type": "stream",
     "text": [
      "data\n"
     ]
    },
    {
     "data": {
      "text/plain": [
       "<matplotlib.collections.PathCollection at 0x11126a588>"
      ]
     },
     "execution_count": 15,
     "metadata": {},
     "output_type": "execute_result"
    },
    {
     "data": {
      "image/png": "[encoded data removed]",
      "text/plain": [
       "<Figure size 432x288 with 1 Axes>"
      ]
     },
     "metadata": {
      "needs_background": "light"
     },
     "output_type": "display_data"
    }
   ],
   "source": [
    "data = [[1,2],[3,3],[2,2],[8,8],[6,6],[7,7],[-3,-3],[-2,-4],[-7,-7]]\n",
    "print(\"data\")\n",
    "plotxy(data, np.random.rand(3,))\n",
    "centroidData = getMidPoint(data)\n",
    "plt.scatter(centroidData[0], centroidData[1], marker = 'x')"
   ]
  },
  {
   "cell_type": "markdown",
   "metadata": {},
   "source": [
    "#### for k = 2"
   ]
  },
  {
   "cell_type": "code",
   "execution_count": 16,
   "metadata": {},
   "outputs": [
    {
     "name": "stdout",
     "output_type": "stream",
     "text": [
      "centroids are  [[2, 2], [-2, -4]]\n",
      "Between Cluster Variance:  39.840277777777786\n",
      "All Data Variance:  0.5632716049382716\n",
      "Fraction Of Explaind Variance:  70.73013698630139\n"
     ]
    },
    {
     "data": {
      "text/plain": [
       "70.73013698630139"
      ]
     },
     "execution_count": 16,
     "metadata": {},
     "output_type": "execute_result"
    },
    {
     "data": {
      "image/png": "[encoded data removed]",
      "text/plain": [
       "<Figure size 432x288 with 1 Axes>"
      ]
     },
     "metadata": {
      "needs_background": "light"
     },
     "output_type": "display_data"
    }
   ],
   "source": [
    "cluster(data,2)"
   ]
  },
  {
   "cell_type": "markdown",
   "metadata": {},
   "source": [
    "#### for k=3"
   ]
  },
  {
   "cell_type": "code",
   "execution_count": 17,
   "metadata": {},
   "outputs": [
    {
     "name": "stdout",
     "output_type": "stream",
     "text": [
      "centroids are  [[8, 8], [1, 2], [-7, -7]]\n",
      "Between Cluster Variance:  48.611111111111114\n",
      "All Data Variance:  0.6018518518518517\n",
      "Fraction Of Explaind Variance:  80.76923076923079\n"
     ]
    },
    {
     "data": {
      "text/plain": [
       "80.76923076923079"
      ]
     },
     "execution_count": 17,
     "metadata": {},
     "output_type": "execute_result"
    },
    {
     "data": {
      "image/png": "[encoded data removed]",
      "text/plain": [
       "<Figure size 432x288 with 1 Axes>"
      ]
     },
     "metadata": {
      "needs_background": "light"
     },
     "output_type": "display_data"
    }
   ],
   "source": [
    "cluster(data, 3)"
   ]
  },
  {
   "cell_type": "markdown",
   "metadata": {},
   "source": [
    "#### for k=4"
   ]
  },
  {
   "cell_type": "code",
   "execution_count": 18,
   "metadata": {},
   "outputs": [
    {
     "name": "stdout",
     "output_type": "stream",
     "text": [
      "centroids are  [[6, 6], [-2, -4], [-7, -7], [-3, -3]]\n",
      "Between Cluster Variance:  42.67361111111112\n",
      "All Data Variance:  10.807098765432098\n",
      "Fraction Of Explaind Variance:  3.9486648579180366\n"
     ]
    },
    {
     "data": {
      "text/plain": [
       "3.9486648579180366"
      ]
     },
     "execution_count": 18,
     "metadata": {},
     "output_type": "execute_result"
    },
    {
     "data": {
      "image/png": "[encoded data removed]",
      "text/plain": [
       "<Figure size 432x288 with 1 Axes>"
      ]
     },
     "metadata": {
      "needs_background": "light"
     },
     "output_type": "display_data"
    }
   ],
   "source": [
    "cluster(data, 4)"
   ]
  },
  {
   "cell_type": "markdown",
   "metadata": {},
   "source": [
    "#### for k=5"
   ]
  },
  {
   "cell_type": "code",
   "execution_count": 19,
   "metadata": {},
   "outputs": [
    {
     "name": "stdout",
     "output_type": "stream",
     "text": [
      "centroids are  [[-2, -4], [3, 3], [-3, -3], [6, 6], [2, 2]]\n",
      "Between Cluster Variance:  49.71527777777778\n",
      "All Data Variance:  15.623456790123456\n",
      "Fraction Of Explaind Variance:  3.1820920584749115\n"
     ]
    },
    {
     "data": {
      "text/plain": [
       "3.1820920584749115"
      ]
     },
     "execution_count": 19,
     "metadata": {},
     "output_type": "execute_result"
    },
    {
     "data": {
      "image/png": "[encoded data removed]",
      "text/plain": [
       "<Figure size 432x288 with 1 Axes>"
      ]
     },
     "metadata": {
      "needs_background": "light"
     },
     "output_type": "display_data"
    }
   ],
   "source": [
    "cluster(data,5)"
   ]
  },
  {
   "cell_type": "code",
   "execution_count": 20,
   "metadata": {},
   "outputs": [
    {
     "name": "stdout",
     "output_type": "stream",
     "text": [
      "for k =  1 :\n",
      "\tFraction of Explained Varience =  0.0\n",
      "for k =  2 :\n",
      "\tFraction of Explained Varience =  70.73013698630139\n",
      "for k =  3 :\n",
      "\tFraction of Explained Varience =  70.69615384615386\n",
      "for k =  4 :\n",
      "\tFraction of Explained Varience =  4.5327716692845925\n",
      "for k =  5 :\n",
      "\tFraction of Explained Varience =  3.292769656262347\n",
      "for k =  6 :\n",
      "\tFraction of Explained Varience =  2.2571312967833297\n",
      "for k =  7 :\n",
      "\tFraction of Explained Varience =  1.7806446317171942\n",
      "for k =  8 :\n",
      "\tFraction of Explained Varience =  1.5457622467181995\n"
     ]
    },
    {
     "data": {
      "image/png": "[encoded data removed]",
      "text/plain": [
       "<Figure size 432x288 with 1 Axes>"
      ]
     },
     "metadata": {
      "needs_background": "light"
     },
     "output_type": "display_data"
    }
   ],
   "source": [
    "elbowMethod(data)"
   ]
  },
  {
   "cell_type": "markdown",
   "metadata": {},
   "source": [
    "# OT1)"
   ]
  },
  {
   "cell_type": "markdown",
   "metadata": {},
   "source": [
    "#### by observation, k should be equal to 4 to guarantee best performance"
   ]
  },
  {
   "cell_type": "code",
   "execution_count": null,
   "metadata": {},
   "outputs": [],
   "source": []
  }
 ],
 "metadata": {
  "kernelspec": {
   "display_name": "Python 3",
   "language": "python",
   "name": "python3"
  },
  "language_info": {
   "codemirror_mode": {
    "name": "ipython",
    "version": 3
   },
   "file_extension": ".py",
   "mimetype": "text/x-python",
   "name": "python",
   "nbconvert_exporter": "python",
   "pygments_lexer": "ipython3",
   "version": "3.6.6"
  }
 },
 "nbformat": 4,
 "nbformat_minor": 2
}
