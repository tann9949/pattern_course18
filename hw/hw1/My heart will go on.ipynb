{
 "cells": [
  {
   "cell_type": "markdown",
   "metadata": {},
   "source": [
    "# Train logistic regression model"
   ]
  },
  {
   "cell_type": "code",
   "execution_count": 1,
   "metadata": {},
   "outputs": [],
   "source": [
    "import pandas as pd\n",
    "import numpy as np"
   ]
  },
  {
   "cell_type": "code",
   "execution_count": 2,
   "metadata": {},
   "outputs": [],
   "source": [
    "def sigmoid(x):\n",
    "    return 1 / (1 + np.exp(-x))"
   ]
  },
  {
   "cell_type": "code",
   "execution_count": 3,
   "metadata": {},
   "outputs": [],
   "source": [
    "train_url = \"http://s3.amazonaws.com/assets.datacamp.com/course/Kaggle/train.csv\"\n",
    "train = pd.read_csv(train_url) #training set"
   ]
  },
  {
   "cell_type": "code",
   "execution_count": 4,
   "metadata": {},
   "outputs": [],
   "source": [
    "train[\"Age\"] = train[\"Age\"].fillna(train[\"Age\"].median())\n",
    "\n",
    "train.loc[train[\"Embarked\"] == \"S\", \"Embarked\"] = 0\n",
    "train.loc[train[\"Embarked\"] == \"C\", \"Embarked\"] = 1\n",
    "train.loc[train[\"Embarked\"] == \"Q\", \"Embarked\"] = 2\n",
    "train[\"Embarked\"] = train[\"Embarked\"].fillna(train[\"Embarked\"].mode()[0])\n",
    "\n",
    "train.loc[train[\"Sex\"] == \"male\", \"Sex\"] = 0\n",
    "train.loc[train[\"Sex\"] == \"female\", \"Sex\"] = 1\n",
    "train[\"Sex\"] = train[\"Sex\"].fillna(train[\"Sex\"].mode()[0])"
   ]
  },
  {
   "cell_type": "code",
   "execution_count": 5,
   "metadata": {},
   "outputs": [],
   "source": [
    "x = np.array(train[[\"Pclass\",\"Sex\",\"Age\",\"Embarked\"]].values, float)\n",
    "x = np.concatenate((np.ones((x.shape[0], 1)), x), axis=1)\n",
    "\n",
    "y_true = np.array(train[[\"Survived\"]], float)\n",
    "\n",
    "theta = np.random.rand(x.shape[1], 1)"
   ]
  },
  {
   "cell_type": "code",
   "execution_count": 6,
   "metadata": {},
   "outputs": [
    {
     "name": "stdout",
     "output_type": "stream",
     "text": [
      "Round 200 \tLoss: 0.5586 \tAccuracy: 75.98 %\n",
      "Round 400 \tLoss: 0.5213 \tAccuracy: 79.01 %\n",
      "Round 600 \tLoss: 0.5076 \tAccuracy: 80.47 %\n",
      "Round 800 \tLoss: 0.4992 \tAccuracy: 81.26 %\n",
      "Round 1000 \tLoss: 0.4928 \tAccuracy: 81.26 %\n",
      "Round 1200 \tLoss: 0.4875 \tAccuracy: 81.03 %\n",
      "Round 1400 \tLoss: 0.4831 \tAccuracy: 81.14 %\n",
      "Round 1600 \tLoss: 0.4793 \tAccuracy: 80.47 %\n",
      "Round 1800 \tLoss: 0.4761 \tAccuracy: 80.36 %\n",
      "Round 2000 \tLoss: 0.4733 \tAccuracy: 80.47 %\n"
     ]
    }
   ],
   "source": [
    "for i in range (1, 2001):\n",
    "    y_pred = sigmoid(np.dot(x, theta))\n",
    "    y_pred = np.clip(y_pred, 1e-15, 1 - 1e-15)\n",
    "    \n",
    "    theta += 1e-5 * np.dot(x.T, y_true - y_pred)\n",
    "    \n",
    "    if i % 200 == 0:\n",
    "        loss = (-(np.dot(y_true.T, np.log(y_pred)) + np.dot((1 - y_true).T, np.log(1 - y_pred))) / x.shape[0])\n",
    "        acc = np.sum(y_true == (y_pred >= 0.5)) / x.shape[0] * 100\n",
    "        \n",
    "        print(\"Round\", i, \"\\tLoss: %.4f\" % loss[0, 0], \"\\tAccuracy: %.2f\" % acc, \"%\")"
   ]
  },
  {
   "cell_type": "code",
   "execution_count": 7,
   "metadata": {},
   "outputs": [
    {
     "name": "stdout",
     "output_type": "stream",
     "text": [
      "Accuracy for train data: 80.47 %\n"
     ]
    }
   ],
   "source": [
    "print(\"Accuracy for train data: %.2f\" % acc, \"%\")"
   ]
  },
  {
   "cell_type": "markdown",
   "metadata": {},
   "source": [
    "# Test logictic regression model"
   ]
  },
  {
   "cell_type": "code",
   "execution_count": 8,
   "metadata": {},
   "outputs": [],
   "source": [
    "test_url = \"http://s3.amazonaws.com/assets.datacamp.com/course/Kaggle/test.csv\"\n",
    "test = pd.read_csv(test_url) #test set"
   ]
  },
  {
   "cell_type": "code",
   "execution_count": 9,
   "metadata": {},
   "outputs": [],
   "source": [
    "test[\"Age\"] = test[\"Age\"].fillna(test[\"Age\"].median())\n",
    "\n",
    "test.loc[test[\"Embarked\"] == \"S\", \"Embarked\"] = 0\n",
    "test.loc[test[\"Embarked\"] == \"C\", \"Embarked\"] = 1\n",
    "test.loc[test[\"Embarked\"] == \"Q\", \"Embarked\"] = 2\n",
    "test[\"Embarked\"] = test[\"Embarked\"].fillna(test[\"Embarked\"].mode())\n",
    "\n",
    "test.loc[test[\"Sex\"] == \"male\", \"Sex\"] = 0\n",
    "test.loc[test[\"Sex\"] == \"female\", \"Sex\"] = 1\n",
    "test[\"Sex\"] = test[\"Sex\"].fillna(test[\"Sex\"].mode())"
   ]
  },
  {
   "cell_type": "code",
   "execution_count": 10,
   "metadata": {},
   "outputs": [],
   "source": [
    "test_data = np.array(test[[\"Pclass\",\"Sex\",\"Age\",\"Embarked\"]].values, float)\n",
    "test_data = np.concatenate((np.ones((test_data.shape[0], 1)), test_data), axis=1)"
   ]
  },
  {
   "cell_type": "code",
   "execution_count": 11,
   "metadata": {},
   "outputs": [],
   "source": [
    "test_result = np.array(sigmoid(np.dot(test_data, theta)) >= 0.5, int)\n",
    "\n",
    "df = pd.DataFrame()\n",
    "df[\"PassengerId\"] = test[\"PassengerId\"]\n",
    "df[\"Survived\"] = test_result\n",
    "\n",
    "df.to_csv(\"normal_logis_result.csv\", index=False)"
   ]
  },
  {
   "cell_type": "markdown",
   "metadata": {},
   "source": [
    "# Train linear regression model by gradient descend"
   ]
  },
  {
   "cell_type": "code",
   "execution_count": 12,
   "metadata": {},
   "outputs": [
    {
     "data": {
      "text/plain": [
       "array([[0.79125392],\n",
       "       [0.18907719],\n",
       "       [0.67113994],\n",
       "       [0.68848508],\n",
       "       [0.92608832]])"
      ]
     },
     "execution_count": 12,
     "metadata": {},
     "output_type": "execute_result"
    }
   ],
   "source": [
    "theta = np.random.rand(x.shape[1], 1)\n",
    "theta"
   ]
  },
  {
   "cell_type": "code",
   "execution_count": 13,
   "metadata": {},
   "outputs": [
    {
     "name": "stdout",
     "output_type": "stream",
     "text": [
      "Round 25000 \tLoss: 0.0725 \tAccuracy: 79.46 %\n",
      "Round 50000 \tLoss: 0.0725 \tAccuracy: 79.80 %\n",
      "Round 75000 \tLoss: 0.0725 \tAccuracy: 79.80 %\n",
      "Round 100000 \tLoss: 0.0725 \tAccuracy: 79.91 %\n",
      "Round 125000 \tLoss: 0.0725 \tAccuracy: 79.91 %\n",
      "Round 150000 \tLoss: 0.0725 \tAccuracy: 79.91 %\n",
      "Round 175000 \tLoss: 0.0725 \tAccuracy: 79.91 %\n",
      "Round 200000 \tLoss: 0.0725 \tAccuracy: 79.91 %\n"
     ]
    }
   ],
   "source": [
    "for i in range (1, 200001):\n",
    "    y_pred = np.dot(x, theta)\n",
    "    \n",
    "    theta += 2e-6 * np.dot(x.T, y_true - y_pred)\n",
    "    \n",
    "    if i % 25000 == 0:\n",
    "        loss = (np.sum((y_true - y_pred) ** 2)) / (2 * x.shape[0])\n",
    "        acc = np.sum(y_true == np.round(y_pred)) / x.shape[0] * 100\n",
    "        \n",
    "        print(\"Round\", i, \"\\tLoss: %.4f\" % loss, \"\\tAccuracy: %.2f\" % acc, \"%\")"
   ]
  },
  {
   "cell_type": "code",
   "execution_count": 14,
   "metadata": {},
   "outputs": [
    {
     "name": "stdout",
     "output_type": "stream",
     "text": [
      "Theta:  [[ 0.77654437 -0.18843943  0.49086712 -0.00505436  0.04911346]]\n",
      "Accuracy for train data: 79.91 %\n",
      "MSE:  129.12883225626126\n"
     ]
    }
   ],
   "source": [
    "print(\"Theta: \", theta.T)\n",
    "print(\"Accuracy for train data: %.2f\" % acc, \"%\")\n",
    "print(\"MSE: \", np.sum((y_true - y_pred) ** 2))"
   ]
  },
  {
   "cell_type": "markdown",
   "metadata": {},
   "source": [
    "# Train linear regression model by matrix inversion"
   ]
  },
  {
   "cell_type": "code",
   "execution_count": 15,
   "metadata": {},
   "outputs": [],
   "source": [
    "theta = np.linalg.pinv(x.T.dot(x)).dot(x.T).dot(y_true)"
   ]
  },
  {
   "cell_type": "code",
   "execution_count": 16,
   "metadata": {},
   "outputs": [],
   "source": [
    "y_pred = np.dot(x, theta)\n",
    "acc = np.sum(y_true == np.round(y_pred)) / x.shape[0] * 100"
   ]
  },
  {
   "cell_type": "code",
   "execution_count": 17,
   "metadata": {},
   "outputs": [
    {
     "name": "stdout",
     "output_type": "stream",
     "text": [
      "Theta:  [[ 0.77654442 -0.18843944  0.49086711 -0.00505436  0.04911346]]\n",
      "Accuracy for train data: 79.91 %\n",
      "MSE:  129.12883225626115\n"
     ]
    }
   ],
   "source": [
    "print(\"Theta: \", theta.T)\n",
    "print(\"Accuracy for train data: %.2f\" % acc, \"%\")\n",
    "print(\"MSE: \", np.sum((y_true - y_pred) ** 2))"
   ]
  },
  {
   "cell_type": "markdown",
   "metadata": {},
   "source": [
    "# Add x^2 features (use logistic regression)"
   ]
  },
  {
   "cell_type": "code",
   "execution_count": 34,
   "metadata": {},
   "outputs": [
    {
     "name": "stdout",
     "output_type": "stream",
     "text": [
      "[  1.   3.   1.  26.   0.   9.   1. 676.   0.]\n"
     ]
    }
   ],
   "source": [
    "x = np.array(train[[\"Pclass\",\"Sex\",\"Age\",\"Embarked\"]].values, int)\n",
    "x = np.concatenate((np.ones((x.shape[0], 1)), x, x*x), axis=1)\n",
    "\n",
    "y_true = np.array(train[[\"Survived\"]], int)\n",
    "\n",
    "theta = np.random.rand(x.shape[1], 1)\n",
    "print(x[2])"
   ]
  },
  {
   "cell_type": "code",
   "execution_count": 19,
   "metadata": {},
   "outputs": [
    {
     "name": "stdout",
     "output_type": "stream",
     "text": [
      "Round 50000 \tLoss: 0.7044 \tAccuracy: 65.21 %\n",
      "Round 100000 \tLoss: 0.5880 \tAccuracy: 68.80 %\n",
      "Round 150000 \tLoss: 0.5510 \tAccuracy: 72.50 %\n",
      "Round 200000 \tLoss: 0.5356 \tAccuracy: 72.50 %\n",
      "Round 250000 \tLoss: 0.5268 \tAccuracy: 74.07 %\n",
      "Round 300000 \tLoss: 0.5202 \tAccuracy: 74.75 %\n",
      "Round 350000 \tLoss: 0.5147 \tAccuracy: 75.65 %\n",
      "Round 400000 \tLoss: 0.5099 \tAccuracy: 75.98 %\n",
      "Round 450000 \tLoss: 0.5056 \tAccuracy: 78.56 %\n",
      "Round 500000 \tLoss: 0.5017 \tAccuracy: 79.01 %\n"
     ]
    }
   ],
   "source": [
    "for i in range (1, 500001):\n",
    "    y_pred = sigmoid(np.dot(x, theta))\n",
    "    y_pred = np.clip(y_pred, 1e-15, 1 - 1e-15)\n",
    "    \n",
    "    theta += 6e-9 * np.dot(x.T, y_true - y_pred)\n",
    "    \n",
    "    if i % 50000 == 0:\n",
    "        loss = (-(np.dot(y_true.T, np.log(y_pred)) + np.dot((1 - y_true).T, np.log(1 - y_pred))) / x.shape[0])\n",
    "        acc = np.sum(y_true == (y_pred >= 0.5)) / x.shape[0] * 100\n",
    "        \n",
    "        print(\"Round\", i, \"\\tLoss: %.4f\" % loss[0, 0], \"\\tAccuracy: %.2f\" % acc, \"%\")"
   ]
  },
  {
   "cell_type": "code",
   "execution_count": 20,
   "metadata": {},
   "outputs": [
    {
     "name": "stdout",
     "output_type": "stream",
     "text": [
      "Accuracy for train data: 79.01 %\n"
     ]
    }
   ],
   "source": [
    "print(\"Accuracy for train data: %.2f\" % acc, \"%\")"
   ]
  },
  {
   "cell_type": "code",
   "execution_count": 21,
   "metadata": {},
   "outputs": [],
   "source": [
    "test_data = np.array(test[[\"Pclass\",\"Sex\",\"Age\",\"Embarked\"]].values, float)\n",
    "test_data = np.concatenate((np.ones((test_data.shape[0], 1)), test_data, test_data*test_data), axis=1)"
   ]
  },
  {
   "cell_type": "code",
   "execution_count": 22,
   "metadata": {},
   "outputs": [],
   "source": [
    "test_result = np.array(sigmoid(np.dot(test_data, theta)) >= 0.5, int)\n",
    "\n",
    "df = pd.DataFrame()\n",
    "df[\"PassengerId\"] = test[\"PassengerId\"]\n",
    "df[\"Survived\"] = test_result\n",
    "\n",
    "df.to_csv(\"added_logis_result.csv\", index=False)"
   ]
  },
  {
   "cell_type": "markdown",
   "metadata": {},
   "source": [
    "# Reduce features to just Sex and Age (use logistic regression)"
   ]
  },
  {
   "cell_type": "code",
   "execution_count": 23,
   "metadata": {},
   "outputs": [],
   "source": [
    "x = np.array(train[[\"Sex\",\"Age\"]].values, float)\n",
    "x = np.concatenate((np.ones((x.shape[0], 1)), x), axis=1)\n",
    "\n",
    "y_true = np.array(train[[\"Survived\"]], float)\n",
    "\n",
    "theta = np.random.rand(x.shape[1], 1)"
   ]
  },
  {
   "cell_type": "code",
   "execution_count": 24,
   "metadata": {},
   "outputs": [
    {
     "name": "stdout",
     "output_type": "stream",
     "text": [
      "Round 200 \tLoss: 0.5965 \tAccuracy: 72.62 %\n",
      "Round 400 \tLoss: 0.5864 \tAccuracy: 74.07 %\n",
      "Round 600 \tLoss: 0.5777 \tAccuracy: 75.53 %\n",
      "Round 800 \tLoss: 0.5703 \tAccuracy: 76.21 %\n",
      "Round 1000 \tLoss: 0.5639 \tAccuracy: 76.43 %\n",
      "Round 1200 \tLoss: 0.5585 \tAccuracy: 76.09 %\n",
      "Round 1400 \tLoss: 0.5537 \tAccuracy: 76.21 %\n",
      "Round 1600 \tLoss: 0.5495 \tAccuracy: 76.21 %\n",
      "Round 1800 \tLoss: 0.5459 \tAccuracy: 76.66 %\n",
      "Round 2000 \tLoss: 0.5427 \tAccuracy: 76.99 %\n"
     ]
    }
   ],
   "source": [
    "for i in range (1, 2001):\n",
    "    y_pred = sigmoid(np.dot(x, theta))\n",
    "    y_pred = np.clip(y_pred, 1e-15, 1 - 1e-15)\n",
    "    \n",
    "    theta += 1e-5 * np.dot(x.T, y_true - y_pred)\n",
    "    \n",
    "    if i % 200 == 0:\n",
    "        loss = (-(np.dot(y_true.T, np.log(y_pred)) + np.dot((1 - y_true).T, np.log(1 - y_pred))) / x.shape[0])\n",
    "        acc = np.sum(y_true == (y_pred >= 0.5)) / x.shape[0] * 100\n",
    "        \n",
    "        print(\"Round\", i, \"\\tLoss: %.4f\" % loss[0, 0], \"\\tAccuracy: %.2f\" % acc, \"%\")"
   ]
  },
  {
   "cell_type": "code",
   "execution_count": 25,
   "metadata": {},
   "outputs": [
    {
     "name": "stdout",
     "output_type": "stream",
     "text": [
      "Accuracy for train data: 76.99 %\n"
     ]
    }
   ],
   "source": [
    "print(\"Accuracy for train data: %.2f\" % acc, \"%\")"
   ]
  }
 ],
 "metadata": {
  "kernelspec": {
   "display_name": "Python 3",
   "language": "python",
   "name": "python3"
  },
  "language_info": {
   "codemirror_mode": {
    "name": "ipython",
    "version": 3
   },
   "file_extension": ".py",
   "mimetype": "text/x-python",
   "name": "python",
   "nbconvert_exporter": "python",
   "pygments_lexer": "ipython3",
   "version": "3.6.6"
  }
 },
 "nbformat": 4,
 "nbformat_minor": 2
}
