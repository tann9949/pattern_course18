{
 "cells": [
  {
   "cell_type": "markdown",
   "metadata": {},
   "source": [
    "# Training Session"
   ]
  },
  {
   "cell_type": "code",
   "execution_count": 1,
   "metadata": {},
   "outputs": [],
   "source": [
    "import pandas as pd\n",
    "import numpy as np\n",
    "import random\n",
    "\n",
    "def logisticFn(x, theta):\n",
    "    return 1/(1+np.exp(-np.dot(x, theta)))\n",
    "\n",
    "def linReg(x, theta):\n",
    "    return np.dot(x,theta);\n",
    "\n",
    "def predict(x):\n",
    "    p = x.copy()\n",
    "    i=0\n",
    "    for h in x:\n",
    "        if h[0]>=0.5:\n",
    "            p[i] = [1]\n",
    "        else:\n",
    "            p[i] = [0]\n",
    "        i+=1\n",
    "    return p\n",
    "\n",
    "def gradientDecent(x, theta):\n",
    "    return"
   ]
  },
  {
   "cell_type": "code",
   "execution_count": 2,
   "metadata": {},
   "outputs": [],
   "source": [
    "train_url = \"http://s3.amazonaws.com/assets.datacamp.com/course/Kaggle/train.csv\"\n",
    "train = pd.read_csv(train_url) #training set\n",
    "\n",
    "test_url = \"http://s3.amazonaws.com/assets.datacamp.com/course/Kaggle/test.csv\"\n",
    "test = pd.read_csv(test_url) #test set"
   ]
  },
  {
   "cell_type": "code",
   "execution_count": 3,
   "metadata": {},
   "outputs": [
    {
     "name": "stdout",
     "output_type": "stream",
     "text": [
      "median of Age is:  28.0\n"
     ]
    }
   ],
   "source": [
    "print(\"median of Age is: \", train[\"Age\"].median())"
   ]
  },
  {
   "cell_type": "code",
   "execution_count": 4,
   "metadata": {},
   "outputs": [],
   "source": [
    "train[\"Age\"] = train[\"Age\"].fillna(train[\"Age\"].median())\n",
    "train[\"Embarked\"] = train[\"Embarked\"].fillna(train[\"Embarked\"].mode()[0])\n",
    "train[\"Sex\"] = train[\"Sex\"].fillna(train[\"Sex\"].mode()[0])"
   ]
  },
  {
   "cell_type": "code",
   "execution_count": 5,
   "metadata": {},
   "outputs": [],
   "source": [
    "train.loc[train[\"Embarked\"] == \"S\", \"Embarked\"] = 0\n",
    "train.loc[train[\"Embarked\"] == \"C\", \"Embarked\"] = 1\n",
    "train.loc[train[\"Embarked\"] == \"Q\", \"Embarked\"] = 2\n",
    "train.loc[train[\"Sex\"] == \"male\", \"Sex\"] = 1\n",
    "train.loc[train[\"Sex\"] == \"female\", \"Sex\"] = 0"
   ]
  },
  {
   "cell_type": "code",
   "execution_count": 6,
   "metadata": {},
   "outputs": [],
   "source": [
    "data = np.array(train[[\"Pclass\",\"Sex\",\"Age\",\"Embarked\"]].values, dtype = float)\n",
    "data0 = np.ones((data.shape[0],1))\n",
    "data = np.concatenate((data0, data), axis=1)"
   ]
  },
  {
   "cell_type": "code",
   "execution_count": 7,
   "metadata": {},
   "outputs": [],
   "source": [
    "y = np.array(train[[\"Survived\"]].values, dtype = float)"
   ]
  },
  {
   "cell_type": "code",
   "execution_count": 8,
   "metadata": {},
   "outputs": [],
   "source": [
    "theta = np.random.rand(1, data.shape[1]).T"
   ]
  },
  {
   "cell_type": "code",
   "execution_count": 9,
   "metadata": {},
   "outputs": [
    {
     "name": "stdout",
     "output_type": "stream",
     "text": [
      "learning rate is  1.1223344556677892e-05\n"
     ]
    }
   ],
   "source": [
    "r = 0.01*(1/data.shape[0])\n",
    "# r = 1e-5\n",
    "print(\"learning rate is \",r)"
   ]
  },
  {
   "cell_type": "code",
   "execution_count": 10,
   "metadata": {},
   "outputs": [
    {
     "name": "stdout",
     "output_type": "stream",
     "text": [
      "Training Round: 1 \tAccuracy: 38.38 %\n",
      "Training Round: 200 \tAccuracy: 53.09 %\n",
      "Training Round: 400 \tAccuracy: 56.12 %\n",
      "Training Round: 600 \tAccuracy: 59.82 %\n",
      "Training Round: 800 \tAccuracy: 61.28 %\n",
      "Training Round: 1000 \tAccuracy: 62.74 %\n",
      "Training Round: 1200 \tAccuracy: 65.43 %\n",
      "Training Round: 1400 \tAccuracy: 67.90 %\n",
      "Training Round: 1600 \tAccuracy: 68.24 %\n",
      "Training Round: 1800 \tAccuracy: 67.68 %\n",
      "Training Round: 2000 \tAccuracy: 68.80 %\n",
      "Training Round: 2200 \tAccuracy: 70.48 %\n",
      "Training Round: 2400 \tAccuracy: 72.17 %\n",
      "Training Round: 2600 \tAccuracy: 75.08 %\n",
      "Training Round: 2800 \tAccuracy: 75.76 %\n",
      "Training Round: 3000 \tAccuracy: 77.10 %\n",
      "Training Round: 3200 \tAccuracy: 77.22 %\n",
      "Training Round: 3400 \tAccuracy: 78.90 %\n",
      "Training Round: 3600 \tAccuracy: 78.45 %\n",
      "Training Round: 3800 \tAccuracy: 80.70 %\n",
      "Training Round: 4000 \tAccuracy: 81.03 %\n"
     ]
    }
   ],
   "source": [
    "for i in range(4000):\n",
    "    hTheta = logisticFn(data, theta)\n",
    "    theta += r*np.dot(data.T, (y-hTheta))\n",
    "    accuracy = np.sum(y == np.round(hTheta)) / data.shape[0] * 100\n",
    "    if((i+1) % 200 == 0 or i==0):\n",
    "        print(\"Training Round:\", i+1, \"\\tAccuracy: %.2f\" % accuracy, \"%\")"
   ]
  },
  {
   "cell_type": "markdown",
   "metadata": {},
   "source": [
    "# Testing session"
   ]
  },
  {
   "cell_type": "code",
   "execution_count": 11,
   "metadata": {},
   "outputs": [],
   "source": [
    "test[\"Age\"] = test[\"Age\"].fillna(test[\"Age\"].median())\n",
    "test[\"Embarked\"] = test[\"Embarked\"].fillna(test[\"Embarked\"].mode()[0])\n",
    "test[\"Sex\"] = test[\"Sex\"].fillna(test[\"Sex\"].mode()[0])"
   ]
  },
  {
   "cell_type": "code",
   "execution_count": 12,
   "metadata": {},
   "outputs": [],
   "source": [
    "test.loc[test[\"Embarked\"] == \"S\", \"Embarked\"] = 0\n",
    "test.loc[test[\"Embarked\"] == \"C\", \"Embarked\"] = 1\n",
    "test.loc[test[\"Embarked\"] == \"Q\", \"Embarked\"] = 2\n",
    "test.loc[test[\"Sex\"] == \"male\", \"Sex\"] = 1\n",
    "test.loc[test[\"Sex\"] == \"female\", \"Sex\"] = 0"
   ]
  },
  {
   "cell_type": "code",
   "execution_count": 13,
   "metadata": {},
   "outputs": [],
   "source": [
    "testData = np.array(test[[\"Pclass\",\"Sex\",\"Age\",\"Embarked\"]].values, dtype = float)\n",
    "testData0 = np.ones((testData.shape[0],1))\n",
    "testData = np.concatenate((testData0, testData), axis=1)"
   ]
  },
  {
   "cell_type": "code",
   "execution_count": 14,
   "metadata": {},
   "outputs": [],
   "source": [
    "testPredict = logisticFn(testData, theta)\n",
    "testPredict = pd.DataFrame(predict(testPredict), columns=['Survived'])\n",
    "testPredict.Survived = testPredict.Survived.astype(int)"
   ]
  },
  {
   "cell_type": "code",
   "execution_count": 15,
   "metadata": {},
   "outputs": [],
   "source": [
    "pID = pd.DataFrame(np.array(test[[\"PassengerId\"]].values, dtype = int), columns = ['PassengerId'])\n",
    "result = pd.concat([pID, testPredict], axis = 1,  ignore_index=True)\n",
    "result.columns = ['PassengerId', 'Survived']\n",
    "result.to_csv(\"result_logReg.csv\", index=False)"
   ]
  },
  {
   "cell_type": "markdown",
   "metadata": {},
   "source": [
    " # Linear Regression"
   ]
  },
  {
   "cell_type": "code",
   "execution_count": 58,
   "metadata": {},
   "outputs": [],
   "source": [
    "theta = np.random.rand(1, data.shape[1]).T"
   ]
  },
  {
   "cell_type": "code",
   "execution_count": 59,
   "metadata": {},
   "outputs": [
    {
     "name": "stdout",
     "output_type": "stream",
     "text": [
      "Round 1 \tLoss: 412.6303 \tAccuracy: 0.00 %\n",
      "Round 1000 \tLoss: 0.1141 \tAccuracy: 65.10 %\n",
      "Round 2000 \tLoss: 0.1047 \tAccuracy: 68.24 %\n",
      "Round 3000 \tLoss: 0.0985 \tAccuracy: 72.62 %\n",
      "Round 4000 \tLoss: 0.0940 \tAccuracy: 74.52 %\n",
      "Round 5000 \tLoss: 0.0905 \tAccuracy: 76.88 %\n",
      "Round 6000 \tLoss: 0.0876 \tAccuracy: 78.56 %\n",
      "Round 7000 \tLoss: 0.0853 \tAccuracy: 78.90 %\n",
      "Round 8000 \tLoss: 0.0833 \tAccuracy: 78.56 %\n",
      "Round 9000 \tLoss: 0.0817 \tAccuracy: 78.56 %\n",
      "Round 10000 \tLoss: 0.0803 \tAccuracy: 78.68 %\n",
      "Round 11000 \tLoss: 0.0791 \tAccuracy: 78.68 %\n",
      "Round 12000 \tLoss: 0.0781 \tAccuracy: 78.68 %\n",
      "Round 13000 \tLoss: 0.0773 \tAccuracy: 78.68 %\n",
      "Round 14000 \tLoss: 0.0765 \tAccuracy: 78.68 %\n",
      "Round 15000 \tLoss: 0.0759 \tAccuracy: 78.68 %\n",
      "Round 16000 \tLoss: 0.0754 \tAccuracy: 78.68 %\n",
      "Round 17000 \tLoss: 0.0750 \tAccuracy: 78.68 %\n",
      "Round 18000 \tLoss: 0.0746 \tAccuracy: 78.68 %\n",
      "Round 19000 \tLoss: 0.0743 \tAccuracy: 78.68 %\n",
      "Round 20000 \tLoss: 0.0740 \tAccuracy: 78.68 %\n",
      "Round 21000 \tLoss: 0.0738 \tAccuracy: 78.56 %\n",
      "Round 22000 \tLoss: 0.0736 \tAccuracy: 78.56 %\n",
      "Round 23000 \tLoss: 0.0734 \tAccuracy: 78.56 %\n",
      "Round 24000 \tLoss: 0.0733 \tAccuracy: 78.56 %\n",
      "Round 25000 \tLoss: 0.0731 \tAccuracy: 78.56 %\n",
      "Round 26000 \tLoss: 0.0730 \tAccuracy: 78.56 %\n",
      "Round 27000 \tLoss: 0.0730 \tAccuracy: 78.56 %\n",
      "Round 28000 \tLoss: 0.0729 \tAccuracy: 78.68 %\n",
      "Round 29000 \tLoss: 0.0728 \tAccuracy: 78.79 %\n",
      "Round 30000 \tLoss: 0.0728 \tAccuracy: 79.01 %\n",
      "Round 31000 \tLoss: 0.0727 \tAccuracy: 79.01 %\n",
      "Round 32000 \tLoss: 0.0727 \tAccuracy: 79.24 %\n",
      "Round 33000 \tLoss: 0.0726 \tAccuracy: 79.24 %\n",
      "Round 34000 \tLoss: 0.0726 \tAccuracy: 79.24 %\n",
      "Round 35000 \tLoss: 0.0726 \tAccuracy: 79.24 %\n",
      "Round 36000 \tLoss: 0.0726 \tAccuracy: 79.24 %\n",
      "Round 37000 \tLoss: 0.0726 \tAccuracy: 79.24 %\n",
      "Round 38000 \tLoss: 0.0725 \tAccuracy: 79.24 %\n",
      "Round 39000 \tLoss: 0.0725 \tAccuracy: 79.46 %\n",
      "Round 40000 \tLoss: 0.0725 \tAccuracy: 79.46 %\n",
      "Round 41000 \tLoss: 0.0725 \tAccuracy: 79.46 %\n",
      "Round 42000 \tLoss: 0.0725 \tAccuracy: 79.24 %\n",
      "Round 43000 \tLoss: 0.0725 \tAccuracy: 79.24 %\n",
      "Round 44000 \tLoss: 0.0725 \tAccuracy: 79.24 %\n",
      "Round 45000 \tLoss: 0.0725 \tAccuracy: 79.24 %\n",
      "Round 46000 \tLoss: 0.0725 \tAccuracy: 79.46 %\n",
      "Round 47000 \tLoss: 0.0725 \tAccuracy: 79.46 %\n",
      "Round 48000 \tLoss: 0.0725 \tAccuracy: 79.69 %\n",
      "Round 49000 \tLoss: 0.0725 \tAccuracy: 79.69 %\n",
      "Round 50000 \tLoss: 0.0725 \tAccuracy: 79.69 %\n",
      "Round 51000 \tLoss: 0.0725 \tAccuracy: 79.69 %\n",
      "Round 52000 \tLoss: 0.0725 \tAccuracy: 79.69 %\n",
      "Round 53000 \tLoss: 0.0725 \tAccuracy: 79.80 %\n",
      "Round 54000 \tLoss: 0.0725 \tAccuracy: 79.80 %\n",
      "Round 55000 \tLoss: 0.0725 \tAccuracy: 79.80 %\n",
      "Round 56000 \tLoss: 0.0725 \tAccuracy: 79.80 %\n",
      "Round 57000 \tLoss: 0.0725 \tAccuracy: 79.80 %\n",
      "Round 58000 \tLoss: 0.0725 \tAccuracy: 79.80 %\n",
      "Round 59000 \tLoss: 0.0725 \tAccuracy: 79.80 %\n",
      "Round 60000 \tLoss: 0.0725 \tAccuracy: 79.80 %\n",
      "Round 61000 \tLoss: 0.0725 \tAccuracy: 79.80 %\n",
      "Round 62000 \tLoss: 0.0725 \tAccuracy: 79.80 %\n",
      "Round 63000 \tLoss: 0.0725 \tAccuracy: 79.80 %\n",
      "Round 64000 \tLoss: 0.0725 \tAccuracy: 79.80 %\n",
      "Round 65000 \tLoss: 0.0725 \tAccuracy: 79.80 %\n",
      "Round 66000 \tLoss: 0.0725 \tAccuracy: 79.80 %\n",
      "Round 67000 \tLoss: 0.0725 \tAccuracy: 79.80 %\n",
      "Round 68000 \tLoss: 0.0725 \tAccuracy: 79.80 %\n",
      "Round 69000 \tLoss: 0.0725 \tAccuracy: 79.80 %\n",
      "Round 70000 \tLoss: 0.0725 \tAccuracy: 79.80 %\n",
      "Round 71000 \tLoss: 0.0725 \tAccuracy: 79.80 %\n",
      "Round 72000 \tLoss: 0.0725 \tAccuracy: 79.80 %\n",
      "Round 73000 \tLoss: 0.0725 \tAccuracy: 79.80 %\n",
      "Round 74000 \tLoss: 0.0725 \tAccuracy: 79.80 %\n",
      "Round 75000 \tLoss: 0.0725 \tAccuracy: 79.80 %\n",
      "Round 76000 \tLoss: 0.0725 \tAccuracy: 79.80 %\n",
      "Round 77000 \tLoss: 0.0725 \tAccuracy: 79.80 %\n",
      "Round 78000 \tLoss: 0.0725 \tAccuracy: 79.80 %\n",
      "Round 79000 \tLoss: 0.0725 \tAccuracy: 79.80 %\n",
      "Round 80000 \tLoss: 0.0725 \tAccuracy: 79.80 %\n",
      "Round 81000 \tLoss: 0.0725 \tAccuracy: 79.80 %\n",
      "Round 82000 \tLoss: 0.0725 \tAccuracy: 79.80 %\n",
      "Round 83000 \tLoss: 0.0725 \tAccuracy: 79.80 %\n",
      "Round 84000 \tLoss: 0.0725 \tAccuracy: 79.80 %\n",
      "Round 85000 \tLoss: 0.0725 \tAccuracy: 79.80 %\n",
      "Round 86000 \tLoss: 0.0725 \tAccuracy: 79.80 %\n",
      "Round 87000 \tLoss: 0.0725 \tAccuracy: 79.80 %\n",
      "Round 88000 \tLoss: 0.0725 \tAccuracy: 79.80 %\n",
      "Round 89000 \tLoss: 0.0725 \tAccuracy: 79.80 %\n",
      "Round 90000 \tLoss: 0.0725 \tAccuracy: 79.80 %\n",
      "Round 91000 \tLoss: 0.0725 \tAccuracy: 79.80 %\n",
      "Round 92000 \tLoss: 0.0725 \tAccuracy: 79.80 %\n",
      "Round 93000 \tLoss: 0.0725 \tAccuracy: 79.80 %\n",
      "Round 94000 \tLoss: 0.0725 \tAccuracy: 79.80 %\n",
      "Round 95000 \tLoss: 0.0725 \tAccuracy: 79.80 %\n",
      "Round 96000 \tLoss: 0.0725 \tAccuracy: 79.80 %\n",
      "Round 97000 \tLoss: 0.0725 \tAccuracy: 79.80 %\n",
      "Round 98000 \tLoss: 0.0725 \tAccuracy: 79.80 %\n",
      "Round 99000 \tLoss: 0.0725 \tAccuracy: 79.91 %\n",
      "Round 100000 \tLoss: 0.0725 \tAccuracy: 79.91 %\n"
     ]
    }
   ],
   "source": [
    "for i in range(100000):\n",
    "    h = linReg(data, theta)\n",
    "    r = 2e-6\n",
    "    theta += r*np.dot(data.T, (y-h))\n",
    "    if ((i+1) % 1000 == 0 or i==0):\n",
    "        loss = (np.sum((y - h) ** 2)) / (2 * data.shape[0])\n",
    "        accuracy = np.sum(y == np.round(h)) / data.shape[0] * 100\n",
    "        print(\"Round\", i+1, \"\\tLoss: %.4f\" % loss, \"\\tAccuracy: %.2f\" % accuracy, \"%\")"
   ]
  },
  {
   "cell_type": "code",
   "execution_count": 37,
   "metadata": {},
   "outputs": [],
   "source": [
    "testPredictLinReg = linReg(testData, theta)\n",
    "testPredictLinReg = pd.DataFrame(predict(testPredictLinReg), columns=['Survived'])\n",
    "testPredictLinReg.Survived = testPredictLinReg.Survived.astype(int)"
   ]
  },
  {
   "cell_type": "code",
   "execution_count": 38,
   "metadata": {},
   "outputs": [],
   "source": [
    "resultLinReg = pd.concat([pID, testPredictLinReg], axis = 1,  ignore_index=True)\n",
    "resultLinReg.columns = ['PassengerId', 'Survived']\n",
    "resultLinReg.to_csv(\"result_linReg.csv\", index=False)"
   ]
  },
  {
   "cell_type": "code",
   "execution_count": 39,
   "metadata": {},
   "outputs": [
    {
     "name": "stdout",
     "output_type": "stream",
     "text": [
      "theta:  [[ 1.1215955  -0.15572113 -0.4793443  -0.00321726  0.05526722]]\n",
      "mse:  26.009091748027537\n",
      "accuracy 78.56341189674522\n"
     ]
    }
   ],
   "source": [
    "print(\"theta: \", theta.T)\n",
    "print(\"mse: \", np.sum((y - h) ** 2) /data.shape[1])\n",
    "print(\"accuracy\", accuracy)"
   ]
  },
  {
   "cell_type": "markdown",
   "metadata": {},
   "source": [
    "# Linear Regression using Matrix Inversion"
   ]
  },
  {
   "cell_type": "code",
   "execution_count": 21,
   "metadata": {},
   "outputs": [],
   "source": [
    "theta = np.dot(np.dot(np.linalg.inv(np.dot(data.T,data)),data.T),y)"
   ]
  },
  {
   "cell_type": "code",
   "execution_count": 22,
   "metadata": {},
   "outputs": [],
   "source": [
    "xTheta = np.dot(data, theta)\n",
    "accuracy = np.sum(y==np.round(xTheta)) / data.shape[0] *100\n",
    "mse = np.dot((xTheta-y).T, (xTheta-y)) / data.shape[1]"
   ]
  },
  {
   "cell_type": "code",
   "execution_count": 23,
   "metadata": {},
   "outputs": [
    {
     "name": "stdout",
     "output_type": "stream",
     "text": [
      "theta:  [[ 1.26741154 -0.18843944 -0.49086711 -0.00505436  0.04911346]]\n",
      "mse:  25.825766451252242\n",
      "accuracy:  79.91021324354658\n"
     ]
    }
   ],
   "source": [
    "print(\"theta: \", theta.T)\n",
    "print(\"mse: \", mse[0][0])\n",
    "print(\"accuracy: \", accuracy)"
   ]
  },
  {
   "cell_type": "markdown",
   "metadata": {},
   "source": [
    "# Higher Order Regression"
   ]
  },
  {
   "cell_type": "code",
   "execution_count": 24,
   "metadata": {},
   "outputs": [],
   "source": [
    "thetaHO = np.random.rand(1, data.shape[1]+1).T"
   ]
  },
  {
   "cell_type": "code",
   "execution_count": 25,
   "metadata": {},
   "outputs": [
    {
     "data": {
      "text/plain": [
       "array([[ 1.,  9.,  3.,  1., 22.,  0.],\n",
       "       [ 1.,  1.,  1.,  0., 38.,  1.],\n",
       "       [ 1.,  9.,  3.,  0., 26.,  0.],\n",
       "       ...,\n",
       "       [ 1.,  9.,  3.,  0., 28.,  0.],\n",
       "       [ 1.,  1.,  1.,  1., 26.,  1.],\n",
       "       [ 1.,  9.,  3.,  1., 32.,  2.]])"
      ]
     },
     "execution_count": 25,
     "metadata": {},
     "output_type": "execute_result"
    }
   ],
   "source": [
    "dataHO = np.insert(data.copy(),1,np.square(data[:,1]),axis=1)"
   ]
  },
  {
   "cell_type": "code",
   "execution_count": 26,
   "metadata": {},
   "outputs": [
    {
     "name": "stdout",
     "output_type": "stream",
     "text": [
      "Training Round: 1 \tAccuracy: 38.38 %\n",
      "Training Round: 1000 \tAccuracy: 67.00 %\n",
      "Training Round: 2000 \tAccuracy: 69.58 %\n",
      "Training Round: 3000 \tAccuracy: 71.49 %\n",
      "Training Round: 4000 \tAccuracy: 73.18 %\n",
      "Training Round: 5000 \tAccuracy: 74.52 %\n",
      "Training Round: 6000 \tAccuracy: 75.76 %\n",
      "Training Round: 7000 \tAccuracy: 78.11 %\n",
      "Training Round: 8000 \tAccuracy: 79.46 %\n",
      "Training Round: 9000 \tAccuracy: 79.91 %\n",
      "Training Round: 10000 \tAccuracy: 80.25 %\n",
      "Training Round: 11000 \tAccuracy: 80.47 %\n",
      "Training Round: 12000 \tAccuracy: 80.47 %\n",
      "Training Round: 13000 \tAccuracy: 80.58 %\n",
      "Training Round: 14000 \tAccuracy: 80.81 %\n",
      "Training Round: 15000 \tAccuracy: 80.70 %\n"
     ]
    }
   ],
   "source": [
    "r = 2e-6\n",
    "for i in range(15000):\n",
    "    hThetaHO = logisticFn(dataHO, thetaHO)\n",
    "    thetaHO += r*np.dot(dataHO.T, (y-hThetaHO))\n",
    "    accuracy = np.sum(y == np.round(hThetaHO)) / dataHO.shape[0] * 100\n",
    "    if((i+1) % 1000 == 0 or i==0):\n",
    "        print(\"Training Round:\", i+1, \"\\tAccuracy: %.2f\" % accuracy, \"%\")"
   ]
  },
  {
   "cell_type": "markdown",
   "metadata": {},
   "source": [
    "# Reduce features to Sex and Age"
   ]
  },
  {
   "cell_type": "code",
   "execution_count": 71,
   "metadata": {},
   "outputs": [
    {
     "name": "stdout",
     "output_type": "stream",
     "text": [
      "learning rate is  1.1223344556677892e-05\n"
     ]
    }
   ],
   "source": [
    "dataRed = np.delete(data.copy(), [1,4], axis=1)\n",
    "r = 0.01*(1/data.shape[0])\n",
    "# r = 1e-5\n",
    "print(\"learning rate is \",r)"
   ]
  },
  {
   "cell_type": "code",
   "execution_count": 72,
   "metadata": {},
   "outputs": [],
   "source": [
    "theta = np.random.rand(1, dataRed.shape[1]).T"
   ]
  },
  {
   "cell_type": "code",
   "execution_count": 73,
   "metadata": {},
   "outputs": [
    {
     "name": "stdout",
     "output_type": "stream",
     "text": [
      "Training Round: 1 \tAccuracy: 38.38 %\n",
      "Training Round: 200 \tAccuracy: 63.52 %\n",
      "Training Round: 400 \tAccuracy: 63.64 %\n",
      "Training Round: 600 \tAccuracy: 63.75 %\n",
      "Training Round: 800 \tAccuracy: 62.96 %\n",
      "Training Round: 1000 \tAccuracy: 62.51 %\n",
      "Training Round: 1200 \tAccuracy: 62.40 %\n",
      "Training Round: 1400 \tAccuracy: 62.29 %\n",
      "Training Round: 1600 \tAccuracy: 62.29 %\n",
      "Training Round: 1800 \tAccuracy: 62.74 %\n",
      "Training Round: 2000 \tAccuracy: 63.52 %\n",
      "Training Round: 2200 \tAccuracy: 65.10 %\n",
      "Training Round: 2400 \tAccuracy: 67.56 %\n",
      "Training Round: 2600 \tAccuracy: 71.94 %\n",
      "Training Round: 2800 \tAccuracy: 76.21 %\n",
      "Training Round: 3000 \tAccuracy: 78.68 %\n",
      "Training Round: 3200 \tAccuracy: 78.68 %\n",
      "Training Round: 3400 \tAccuracy: 78.68 %\n",
      "Training Round: 3600 \tAccuracy: 78.68 %\n",
      "Training Round: 3800 \tAccuracy: 78.68 %\n",
      "Training Round: 4000 \tAccuracy: 78.68 %\n",
      "Training Round: 4200 \tAccuracy: 78.68 %\n",
      "Training Round: 4400 \tAccuracy: 78.68 %\n",
      "Training Round: 4600 \tAccuracy: 78.68 %\n",
      "Training Round: 4800 \tAccuracy: 78.68 %\n",
      "Training Round: 5000 \tAccuracy: 78.68 %\n",
      "Training Round: 5200 \tAccuracy: 78.68 %\n",
      "Training Round: 5400 \tAccuracy: 78.68 %\n",
      "Training Round: 5600 \tAccuracy: 78.68 %\n",
      "Training Round: 5800 \tAccuracy: 78.68 %\n",
      "Training Round: 6000 \tAccuracy: 78.68 %\n",
      "Training Round: 6200 \tAccuracy: 78.68 %\n",
      "Training Round: 6400 \tAccuracy: 78.68 %\n",
      "Training Round: 6600 \tAccuracy: 78.68 %\n",
      "Training Round: 6800 \tAccuracy: 78.68 %\n",
      "Training Round: 7000 \tAccuracy: 78.68 %\n",
      "Training Round: 7200 \tAccuracy: 78.68 %\n",
      "Training Round: 7400 \tAccuracy: 78.68 %\n",
      "Training Round: 7600 \tAccuracy: 78.68 %\n",
      "Training Round: 7800 \tAccuracy: 78.68 %\n",
      "Training Round: 8000 \tAccuracy: 78.68 %\n",
      "Training Round: 8200 \tAccuracy: 78.68 %\n",
      "Training Round: 8400 \tAccuracy: 78.68 %\n",
      "Training Round: 8600 \tAccuracy: 78.68 %\n",
      "Training Round: 8800 \tAccuracy: 78.68 %\n",
      "Training Round: 9000 \tAccuracy: 78.68 %\n",
      "Training Round: 9200 \tAccuracy: 78.68 %\n",
      "Training Round: 9400 \tAccuracy: 78.68 %\n",
      "Training Round: 9600 \tAccuracy: 78.68 %\n",
      "Training Round: 9800 \tAccuracy: 78.68 %\n",
      "Training Round: 10000 \tAccuracy: 78.68 %\n"
     ]
    }
   ],
   "source": [
    "for i in range(10000):\n",
    "    hTheta = logisticFn(dataRed, theta)\n",
    "    theta += r*np.dot(dataRed.T, (y-hTheta))\n",
    "    accuracy = np.sum(y == np.round(hTheta)) / dataRed.shape[0] * 100\n",
    "    if((i+1) % 200 == 0 or i==0):\n",
    "        print(\"Training Round:\", i+1, \"\\tAccuracy: %.2f\" % accuracy, \"%\")"
   ]
  },
  {
   "cell_type": "code",
   "execution_count": null,
   "metadata": {},
   "outputs": [],
   "source": []
  }
 ],
 "metadata": {
  "kernelspec": {
   "display_name": "Python 3",
   "language": "python",
   "name": "python3"
  },
  "language_info": {
   "codemirror_mode": {
    "name": "ipython",
    "version": 3
   },
   "file_extension": ".py",
   "mimetype": "text/x-python",
   "name": "python",
   "nbconvert_exporter": "python",
   "pygments_lexer": "ipython3",
   "version": "3.6.6"
  }
 },
 "nbformat": 4,
 "nbformat_minor": 2
}
